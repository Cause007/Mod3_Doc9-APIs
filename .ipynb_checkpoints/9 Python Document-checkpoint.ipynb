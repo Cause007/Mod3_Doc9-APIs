{
 "cells": [
  {
   "cell_type": "markdown",
   "id": "7196054f",
   "metadata": {},
   "source": [
    "# Working with APIs"
   ]
  },
  {
   "cell_type": "markdown",
   "id": "0547b71e",
   "metadata": {},
   "source": [
    "API stands for Application programming interface<br>\n",
    "APIs are a way for applications to talk to eachother<br>\n",
    "In python we use the requests package to handle the connection<br>\n",
    "<small><strong>Note: It is requests with an s not request(this is a different package)</strong></small><br>\n",
    "Most API's communicate with data in the form of JSON<br>\n",
    "JSON stands for JavaScript Object Notation"
   ]
  },
  {
   "cell_type": "code",
   "execution_count": 4,
   "id": "4db9d154",
   "metadata": {},
   "outputs": [],
   "source": [
    "#import the packages we need:\n",
    "import requests, json"
   ]
  },
  {
   "cell_type": "markdown",
   "id": "e8c2ce51",
   "metadata": {},
   "source": [
    "We will be connecting to the Ergast F1 Racer API today:\n",
    "http://ergast.com/mrd/\n",
    "\n",
    "to view JSON data nicely in the Chrome browser install the extension JSONview"
   ]
  },
  {
   "cell_type": "code",
   "execution_count": null,
   "id": "52c440c6",
   "metadata": {},
   "outputs": [],
   "source": [
    "# help(requests)"
   ]
  },
  {
   "cell_type": "code",
   "execution_count": null,
   "id": "f60c1b4a",
   "metadata": {},
   "outputs": [],
   "source": [
    "url = 'http://ergast.com/api/f1/2008/5/driverStandings.json'"
   ]
  },
  {
   "cell_type": "code",
   "execution_count": null,
   "id": "7b63a204",
   "metadata": {},
   "outputs": [],
   "source": [
    "#response object\n",
    "response = requests.get(url)\n",
    "print(response)\n",
    "\n",
    "# https://developer.mozilla.org/en-US/docs/Web/HTTP/Status#client_error_responses"
   ]
  },
  {
   "cell_type": "code",
   "execution_count": null,
   "id": "c6d1fdaf",
   "metadata": {},
   "outputs": [],
   "source": [
    "#check and make sure we got a successful response from the API\n",
    "response.ok"
   ]
  },
  {
   "cell_type": "code",
   "execution_count": null,
   "id": "ed4d3256",
   "metadata": {},
   "outputs": [],
   "source": [
    "#view the response as a JSON\n",
    "response.json()"
   ]
  },
  {
   "cell_type": "code",
   "execution_count": null,
   "id": "92e6cd2c",
   "metadata": {},
   "outputs": [],
   "source": [
    "type(response.json())"
   ]
  },
  {
   "cell_type": "code",
   "execution_count": null,
   "id": "f074dfcf",
   "metadata": {},
   "outputs": [],
   "source": [
    "# We only want the Driver Standings\n",
    "# notice 'StandingsList' is a list, so ask for index 0\n",
    "# for x in range(5):\n",
    "#     my_racer_data = response.json()['MRData']['StandingsTable']['StandingsLists'][0]['DriverStandings'][x][\"Driver\"][\"familyName\"]\n",
    "#     print(my_racer_data)\n",
    "\n",
    "my_racer_data = response.json()['MRData']['StandingsTable']['StandingsLists'][0]['DriverStandings']\n",
    "my_racer_data"
   ]
  },
  {
   "cell_type": "code",
   "execution_count": null,
   "id": "be46a950",
   "metadata": {},
   "outputs": [],
   "source": [
    "def get_racer_info(data):\n",
    "    new_data = []\n",
    "    for racer in data:\n",
    "        racer_dict = {}\n",
    "        racer_name = f'{racer[\"Driver\"][\"givenName\"]} {racer[\"Driver\"][\"familyName\"]}'\n",
    "        \n",
    "        racer_dict[racer_name]={\n",
    "            'first_name':racer['Driver']['givenName'],\n",
    "            'last_name':racer['Driver']['familyName'],\n",
    "            'position':racer['position'],\n",
    "            'wins':racer['wins'],\n",
    "            'DOB':racer['Driver']['dateOfBirth'],\n",
    "            'nationality':racer['Driver']['nationality'],\n",
    "            'constructor':racer['Constructors'][0]['name']\n",
    "        }\n",
    "        new_data.append(racer_dict)\n",
    "    return new_data\n",
    "\n",
    "get_racer_info(my_racer_data)"
   ]
  },
  {
   "cell_type": "code",
   "execution_count": null,
   "id": "3740c752",
   "metadata": {},
   "outputs": [],
   "source": [
    "# if we want to get updated info each year-round\n",
    "def get_driver_info_by_year_and_round(year, r):\n",
    "    url = f'http://ergast.com/api/f1/{year}/{r}/driverStandings.json'\n",
    "    response = requests.get(url)\n",
    "    if not response.json()['MRData']['StandingsTable']['StandingsLists']:\n",
    "        return \"We had an error loading your data. It is likely the year or round is not in the database.\"\n",
    "    data = response.json()['MRData']['StandingsTable']['StandingsLists'][0]['DriverStandings']\n",
    "    return get_racer_info(data)\n",
    "\n",
    "get_driver_info_by_year_and_round(2019,4)"
   ]
  },
  {
   "cell_type": "markdown",
   "id": "6d546014",
   "metadata": {},
   "source": [
    "# <strong>Homework</strong>\n",
    "check out this Pokemon API https://pokeapi.co/\n",
    "Use the requests package to connect to this API and get and store data for 20 different pokemon.\n",
    "Get the pokemons: name, atleast one ability's name, base_experience, and the URL for its sprite (an image that shows up on screen) for the 'front_shiny', attack base_state, hp base_stat, defense base_stat"
   ]
  },
  {
   "cell_type": "code",
   "execution_count": 9,
   "id": "5a9081e3",
   "metadata": {},
   "outputs": [
    {
     "name": "stdout",
     "output_type": "stream",
     "text": [
      "#0491 {'name': 'darkrai', 'type': 'dark', 'shiny_sprite': 'https://raw.githubusercontent.com/PokeAPI/sprites/master/sprites/pokemon/shiny/491.png', 'base_exp': 270, 'base_hp': 70, 'base_attack': 90, 'base_defense': 90, 'abilities': ['bad-dreams']} \n",
      "\n",
      "#0479 {'name': 'rotom', 'type': 'electric', 'shiny_sprite': 'https://raw.githubusercontent.com/PokeAPI/sprites/master/sprites/pokemon/shiny/479.png', 'base_exp': 154, 'base_hp': 50, 'base_attack': 50, 'base_defense': 77, 'abilities': ['levitate']} \n",
      "\n",
      "#0485 {'name': 'heatran', 'type': 'fire', 'shiny_sprite': 'https://raw.githubusercontent.com/PokeAPI/sprites/master/sprites/pokemon/shiny/485.png', 'base_exp': 300, 'base_hp': 91, 'base_attack': 90, 'base_defense': 106, 'abilities': ['flash-fire', 'flame-body']} \n",
      "\n",
      "#0477 {'name': 'dusknoir', 'type': 'ghost', 'shiny_sprite': 'https://raw.githubusercontent.com/PokeAPI/sprites/master/sprites/pokemon/shiny/477.png', 'base_exp': 263, 'base_hp': 45, 'base_attack': 100, 'base_defense': 135, 'abilities': ['pressure', 'frisk']} \n",
      "\n",
      "#0487 {'name': 'giratina-altered', 'type': 'ghost', 'shiny_sprite': 'https://raw.githubusercontent.com/PokeAPI/sprites/master/sprites/pokemon/shiny/487.png', 'base_exp': 340, 'base_hp': 150, 'base_attack': 100, 'base_defense': 120, 'abilities': ['pressure', 'telepathy']} \n",
      "\n",
      "#0492 {'name': 'shaymin-land', 'type': 'grass', 'shiny_sprite': 'https://raw.githubusercontent.com/PokeAPI/sprites/master/sprites/pokemon/shiny/492.png', 'base_exp': 270, 'base_hp': 100, 'base_attack': 100, 'base_defense': 100, 'abilities': ['natural-cure']} \n",
      "\n",
      "#0473 {'name': 'mamoswine', 'type': 'ice', 'shiny_sprite': 'https://raw.githubusercontent.com/PokeAPI/sprites/master/sprites/pokemon/shiny/473.png', 'base_exp': 265, 'base_hp': 110, 'base_attack': 130, 'base_defense': 80, 'abilities': ['oblivious', 'snow-cloak', 'thick-fat']} \n",
      "\n",
      "#0478 {'name': 'froslass', 'type': 'ice', 'shiny_sprite': 'https://raw.githubusercontent.com/PokeAPI/sprites/master/sprites/pokemon/shiny/478.png', 'base_exp': 168, 'base_hp': 70, 'base_attack': 80, 'base_defense': 70, 'abilities': ['snow-cloak', 'cursed-body']} \n",
      "\n",
      "#0474 {'name': 'porygon-z', 'type': 'normal', 'shiny_sprite': 'https://raw.githubusercontent.com/PokeAPI/sprites/master/sprites/pokemon/shiny/474.png', 'base_exp': 268, 'base_hp': 85, 'base_attack': 80, 'base_defense': 70, 'abilities': ['adaptability', 'download', 'analytic']} \n",
      "\n",
      "#0486 {'name': 'regigigas', 'type': 'normal', 'shiny_sprite': 'https://raw.githubusercontent.com/PokeAPI/sprites/master/sprites/pokemon/shiny/486.png', 'base_exp': 335, 'base_hp': 110, 'base_attack': 160, 'base_defense': 110, 'abilities': ['slow-start']} \n",
      "\n",
      "#0493 {'name': 'arceus', 'type': 'normal', 'shiny_sprite': 'https://raw.githubusercontent.com/PokeAPI/sprites/master/sprites/pokemon/shiny/493.png', 'base_exp': 324, 'base_hp': 120, 'base_attack': 120, 'base_defense': 120, 'abilities': ['multitype']} \n",
      "\n",
      "#0475 {'name': 'gallade', 'type': 'psychic', 'shiny_sprite': 'https://raw.githubusercontent.com/PokeAPI/sprites/master/sprites/pokemon/shiny/475.png', 'base_exp': 259, 'base_hp': 68, 'base_attack': 125, 'base_defense': 65, 'abilities': ['steadfast', 'sharpness', 'justified']} \n",
      "\n",
      "#0480 {'name': 'uxie', 'type': 'psychic', 'shiny_sprite': 'https://raw.githubusercontent.com/PokeAPI/sprites/master/sprites/pokemon/shiny/480.png', 'base_exp': 290, 'base_hp': 75, 'base_attack': 75, 'base_defense': 130, 'abilities': ['levitate']} \n",
      "\n",
      "#0481 {'name': 'mesprit', 'type': 'psychic', 'shiny_sprite': 'https://raw.githubusercontent.com/PokeAPI/sprites/master/sprites/pokemon/shiny/481.png', 'base_exp': 290, 'base_hp': 80, 'base_attack': 105, 'base_defense': 105, 'abilities': ['levitate']} \n",
      "\n",
      "#0482 {'name': 'azelf', 'type': 'psychic', 'shiny_sprite': 'https://raw.githubusercontent.com/PokeAPI/sprites/master/sprites/pokemon/shiny/482.png', 'base_exp': 290, 'base_hp': 75, 'base_attack': 125, 'base_defense': 70, 'abilities': ['levitate']} \n",
      "\n",
      "#0488 {'name': 'cresselia', 'type': 'psychic', 'shiny_sprite': 'https://raw.githubusercontent.com/PokeAPI/sprites/master/sprites/pokemon/shiny/488.png', 'base_exp': 300, 'base_hp': 120, 'base_attack': 70, 'base_defense': 110, 'abilities': ['levitate']} \n",
      "\n",
      "#0476 {'name': 'probopass', 'type': 'rock', 'shiny_sprite': 'https://raw.githubusercontent.com/PokeAPI/sprites/master/sprites/pokemon/shiny/476.png', 'base_exp': 184, 'base_hp': 60, 'base_attack': 55, 'base_defense': 145, 'abilities': ['sturdy', 'magnet-pull', 'sand-force']} \n",
      "\n",
      "#0483 {'name': 'dialga', 'type': 'steel', 'shiny_sprite': 'https://raw.githubusercontent.com/PokeAPI/sprites/master/sprites/pokemon/shiny/483.png', 'base_exp': 340, 'base_hp': 100, 'base_attack': 120, 'base_defense': 120, 'abilities': ['pressure', 'telepathy']} \n",
      "\n",
      "#0484 {'name': 'palkia', 'type': 'water', 'shiny_sprite': 'https://raw.githubusercontent.com/PokeAPI/sprites/master/sprites/pokemon/shiny/484.png', 'base_exp': 340, 'base_hp': 90, 'base_attack': 120, 'base_defense': 100, 'abilities': ['pressure', 'telepathy']} \n",
      "\n",
      "#0489 {'name': 'phione', 'type': 'water', 'shiny_sprite': 'https://raw.githubusercontent.com/PokeAPI/sprites/master/sprites/pokemon/shiny/489.png', 'base_exp': 216, 'base_hp': 80, 'base_attack': 80, 'base_defense': 80, 'abilities': ['hydration']} \n",
      "\n",
      "#0490 {'name': 'manaphy', 'type': 'water', 'shiny_sprite': 'https://raw.githubusercontent.com/PokeAPI/sprites/master/sprites/pokemon/shiny/490.png', 'base_exp': 270, 'base_hp': 100, 'base_attack': 100, 'base_defense': 100, 'abilities': ['hydration']} \n",
      "\n"
     ]
    }
   ],
   "source": [
    "import requests, json\n",
    "\n",
    "# make the dict of pokemon\n",
    "\n",
    "def get_pokemon_info(index_start, index_end):\n",
    "    requested_pokemon = {}\n",
    "    for index in range(index_start, index_end+1):\n",
    "        url = f'https://pokeapi.co/api/v2/pokemon/{index}'\n",
    "        poke_data = requests.get(url).json()\n",
    "        if not poke_data:\n",
    "            return 'Requested Pokemon out of range (min 1, max 1302)'\n",
    "\n",
    "        pokemon_index = f\"#{poke_data['id']:04d}\"\n",
    "        \n",
    "        #passing an abilities_list to go into the dict below\n",
    "        abilities_list = []\n",
    "        for ability_num in range(len(poke_data['abilities'])):\n",
    "            abilities_list.append(poke_data['abilities'][ability_num]['ability']['name'])\n",
    "        \n",
    "        requested_pokemon[pokemon_index] = {\n",
    "            'name':poke_data['name'],\n",
    "            'type':poke_data['types'][0]['type']['name'],\n",
    "            'shiny_sprite':poke_data['sprites']['front_shiny'],\n",
    "            'base_exp':poke_data['base_experience'],\n",
    "            'base_hp':poke_data['stats'][0]['base_stat'],\n",
    "            'base_attack':poke_data['stats'][1]['base_stat'],\n",
    "            'base_defense':poke_data['stats'][2]['base_stat'],\n",
    "            \n",
    "            'abilities':abilities_list\n",
    "}\n",
    "    return requested_pokemon\n",
    "\n",
    "# order dict by 'type'\n",
    "\n",
    "def order_by_type(poke_dict):\n",
    "    sorted_dict = dict(sorted(poke_dict.items(), key=lambda item: item[1]['type']))\n",
    "    return sorted_dict\n",
    "\n",
    "pokemon_dict = get_pokemon_info(473,493)\n",
    "sorted_pokemon_by_type = order_by_type(pokemon_dict)\n",
    "\n",
    "for k,v in sorted_pokemon_by_type.items():\n",
    "    print(k,v,'\\n')\n",
    "\n",
    "# NOTE there are two different sets of directions on this... the one I followed was attached to the lecture (doc \"Working with APIs\").\n",
    "# When I went to the homework, I found the file \"Intro to APIs\" which had a separate set of directions/requests...\n",
    "# I didn't want to recreate the whole program specifically ordered around the \"type\" of Pokemon, so...\n",
    "# I added the \"order_by_type()\" function... I anticipate this isn't exactly what you were looking for, but...\n",
    "# The Pokemon ARE ordered by Type... although the individual \"keys\" are their Index numbers.\n"
   ]
  },
  {
   "cell_type": "code",
   "execution_count": null,
   "id": "bf318351",
   "metadata": {},
   "outputs": [],
   "source": []
  }
 ],
 "metadata": {
  "kernelspec": {
   "display_name": "Python 3 (ipykernel)",
   "language": "python",
   "name": "python3"
  },
  "language_info": {
   "codemirror_mode": {
    "name": "ipython",
    "version": 3
   },
   "file_extension": ".py",
   "mimetype": "text/x-python",
   "name": "python",
   "nbconvert_exporter": "python",
   "pygments_lexer": "ipython3",
   "version": "3.11.5"
  }
 },
 "nbformat": 4,
 "nbformat_minor": 5
}
